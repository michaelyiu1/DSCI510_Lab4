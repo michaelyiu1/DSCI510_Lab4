{
 "cells": [
  {
   "cell_type": "markdown",
   "metadata": {
    "id": "5t6PwiKvhdRd"
   },
   "source": [
    "# Lab 4\n",
    "---\n",
    "DSCI 510 (Hermjakob), Spring 2025, USC\n",
    "\n",
    "Hello and welcome to Lab 4, featuring *Party Time in Vienna*.<br>\n",
    "Support for this assignment comes to you from **Regular Expressions: Cryptic, Compact, Powerful**\n",
    "\n",
    "__Guidelines:__\n",
    "\n",
    "- Please write and submit the two programs below by the deadline: Tuesday, February 18, at 6:00pm Pacific time. (I day later then usual in observance of Presidents's Day on 2/17.)\n",
    "\n",
    "- You must complete the assignments individually. If you have trouble completing the assignment, please let one of the teaching assistants (TAs) know, during the lab or their office hours. They will help and guide you, but they will not write code for you and no one else should :) !!!  \n",
    "\n",
    "- You have to fill in the code in this notebook and upload it back to Blackboard for submission. Please remember to rename your file as \"Lab4_[YOUR FIRSTNAME]_[YOUR LASTNAME].ipynb\" (e.g. Lab4_George_Washington.ipynb).\n",
    "\n",
    "- You may look up resources online like python docs and stackoverflow. You may look up topics, but not the questions themselves."
   ]
  },
  {
   "cell_type": "markdown",
   "metadata": {
    "id": "1EnA4l7spmda"
   },
   "source": [
    "# Q1. [10 points]\n",
    "\n",
    "## Phone Number Extractor\n",
    "\n",
    "In this question, you are tasked with implementing a function that extracts phone numbers from a given string using regular expressions. The phone numbers may appear in various formats, and you need to standardize and filter them according to specific rules.\n",
    "\n",
    "The phone numbers in the text can appear in the following formats:\n",
    "- (XXX) XXX-XXXX (e.g., (123) 456-7890)\n",
    "- XXX-XXX-XXXX (e.g., 123-456-7890)\n",
    "- XXX.XXX.XXXX (e.g., 123.456.7890)\n",
    "- +1-XXX-XXX-XXXX (e.g., +1-123-456-7890)\n",
    "\n",
    "Regardless of how the phone numbers are presented in the text, all extracted phone numbers should be returned in the format +1-XXX-XXX-XXXX. For example:\n",
    "- Input format (123) 456-7890 should be returned as +1-123-456-7890\n",
    "- Input format 123-456-7890 should be returned as +1-123-456-7890\n",
    "- Input format 123.456.7890 should be returned as +1-123-456-7890\n",
    "\n",
    "**Note**: Phone numbers in the format (XXX) XXX-XXXX usually include a space after the closing parenthesis, such as (123) 456-7890.\n",
    "However, phone numbers without the space, like (123)456-7890, are also allowed and should be treated as valid.\n",
    "\n",
    "\n",
    "### Constraints\n",
    "- If a phone number appears more than once in the text (the same phone number in different formats should be deduplicated), it should only be included once in the final list.\n",
    "- The phone numbers should be in sorted order\n",
    "- When parsing phone numbers from a string, it's important to account for punctuation marks, particularly the dot (.) that may appear at the end of a sentence or after the phone number. A text like *123-456-7890.* (with a dot at the end) should still be recognized as containing a valid phone number, but the dot should not be included as part of the phone number.\n",
    "\n"
   ]
  },
  {
   "cell_type": "code",
   "execution_count": 1,
   "metadata": {
    "id": "WO9n5WbvrWOm"
   },
   "outputs": [],
   "source": [
    "import re\n",
    "\n",
    "def extract_phone_numbers(text: str) -> list:\n",
    "\n",
    "    if type(text) != str:\n",
    "        return 'not a string input'\n",
    "    \n",
    "    #find all phone numbers\n",
    "    numbers = re.findall(r'\\+?1?-?\\s*\\(?\\d{3}\\)?\\s?[-\\.]?\\d{3}\\s?[-\\.]?\\d{4}\\b',text)\n",
    "    new_numbers = set()\n",
    "    \n",
    "    #extract the portions of each number that is at least 3 digits, then create the new number in the specified format\n",
    "    for phone_num in numbers:\n",
    "        new_num = re.findall(r'\\d{3,}',phone_num)\n",
    "        number_string = '+1-' + new_num[0] + '-' + new_num[1] + '-' + new_num[2]\n",
    "        new_numbers.add(number_string)\n",
    "\n",
    "    new_numbers = sorted(new_numbers)\n",
    "    \n",
    "    return new_numbers"
   ]
  },
  {
   "cell_type": "code",
   "execution_count": 2,
   "metadata": {
    "id": "euumBYoHrbEn"
   },
   "outputs": [
    {
     "name": "stdout",
     "output_type": "stream",
     "text": [
      "['+1-123-456-7890', '+1-234-567-8901', '+1-555-123-4567', '+1-987-654-3210']\n"
     ]
    }
   ],
   "source": [
    "# Open test case\n",
    "test_sentence = (\"Please call us at (123)456-7890 for more details. \"\n",
    "                 \"For emergencies, reach out to 234-567-8901 or 987.654.3210. \"\n",
    "                 \"After-hours phone number is still 123.456.7890. \"\n",
    "                 \"If you're outside the US, you can call +1-555-123-4567. \"\n",
    "                 \"Invalid phone numbers like 1234-5678-90 and (12) 3456-7890 should be ignored.\")\n",
    "\n",
    "print(extract_phone_numbers(test_sentence)) # Output: ['+1-123-456-7890', '+1-234-567-8901', '+1-555-123-4567', '+1-987-654-3210']"
   ]
  },
  {
   "cell_type": "code",
   "execution_count": 5,
   "metadata": {},
   "outputs": [
    {
     "name": "stdout",
     "output_type": "stream",
     "text": [
      "['+1-123-456-7890']\n"
     ]
    }
   ],
   "source": [
    "#Private test case \n",
    "test_sentence = (\n",
    "    \"Please call us at 1 123 456 7890 for more details. \"  # No space after parenthesis\n",
    "\n",
    ")\n",
    "\n",
    "print(extract_phone_numbers(test_sentence))\n"
   ]
  },
  {
   "cell_type": "markdown",
   "metadata": {
    "id": "yRsLIN7uu8aD"
   },
   "source": [
    "# Q2. [10 points]\n",
    "\n",
    "## Extract Hashtags from Social Media Posts\n",
    "In this question, you need to extract valid hashtags from a given text. A hashtag is a word or phrase used in social media to categorize content.\n",
    "\n",
    "Rules for a valid hashtag:\n",
    "- It must start with #\n",
    "- It must be followed by letters (A-Z, a-z), numbers (0-9), or underscores (_).\n",
    "- It must contain at least one letter (A-Z, a-z) AND at least one digit (0-9)\n",
    "\n",
    "**Note**: The order of the hashtags must be preserved as they appear in the text. If a hashtag appears more than once, only the first occurrence should be kept, and duplicates should be ignored."
   ]
  },
  {
   "cell_type": "code",
   "execution_count": 9,
   "metadata": {
    "id": "2RX7XYuDwWfT"
   },
   "outputs": [],
   "source": [
    "import re\n",
    "\n",
    "def extract_hashtags(text: str) -> list:\n",
    "\n",
    "    if not isinstance(text,str):\n",
    "        return 'please enter a string'\n",
    "    #initialize ditionary and output list\n",
    "    hashtags = dict()\n",
    "    output = []\n",
    "\n",
    "    #Find hashtags in text that match requirements\n",
    "    hashtags_in_text = re.findall(r'#\\w*(?=\\w*[A-Za-z])(?=\\w*\\d)\\w*\\b',text)\n",
    "\n",
    "    #Add list of hashtags to dicionary with position number, eliminates repeating hashtags\n",
    "    position = 1\n",
    "    for hashtag in hashtags_in_text:\n",
    "        if hashtag not in hashtags:\n",
    "            hashtags[hashtag] = position\n",
    "            position += 1\n",
    "\n",
    "    output = list(hashtags.keys())\n",
    "    return output"
   ]
  },
  {
   "cell_type": "code",
   "execution_count": 10,
   "metadata": {
    "id": "_MRPsBWcwfAk"
   },
   "outputs": [
    {
     "name": "stdout",
     "output_type": "stream",
     "text": [
      "['#100DaysOfCode', '#hello123', '#Data2024']\n"
     ]
    }
   ],
   "source": [
    "# Open test case\n",
    "test_sentence = (\"Check out #AI, #machine_learning, and #100DaysOfCode! \"\n",
    "                 \"#123 is not valid, but #hello123 and #Data2024 are great examples.\")\n",
    "\n",
    "print(extract_hashtags(test_sentence)) #Output: [\"#100DaysOfCode\", \"#hello123\", \"#Data2024\"]"
   ]
  },
  {
   "cell_type": "code",
   "execution_count": 15,
   "metadata": {},
   "outputs": [
    {
     "name": "stdout",
     "output_type": "stream",
     "text": [
      "['#AI2024', '#Tech_42']\n",
      "please enter a string\n",
      "[]\n"
     ]
    }
   ],
   "source": [
    "#Private test cases\n",
    "text = \"Check out #AI2024 and #Tech_42! Also, #Tech_42 is trending. #Fun but not #123 or #_only_text.\"\n",
    "print(extract_hashtags(text))\n",
    "print(extract_hashtags(2345))\n",
    "print(extract_hashtags(''))\n"
   ]
  },
  {
   "cell_type": "markdown",
   "metadata": {
    "id": "M_2ztodxus-a"
   },
   "source": [
    "# Bonus Question [3+3 points]\n",
    "\n",
    "### Party time in Vienna\n",
    "\n",
    "You are a contractor for an event manager in Vienna and have to extract time expressions from an event brochure,\n",
    "with hours and minutes in 24-hour notation, hours and minutes separated by a colon or period, followed by \"Uhr\" (\"o'clock\").\n",
    "\n",
    "Write a function _extract_time_data_ that extracts time expressions from the brochure text, using regular expressions. [3 points]\n",
    "\n",
    "Then, write a follow-up function _time_in_US_format_ that renders\n",
    "the result of your previous function as a list of human-friendly time strings in US format, in Pacific time (or any other timezone).\n",
    "Time difference between Vienna and Los Angeles: 9 hours. [3 points]\n",
    "\n",
    "Example input text: 'Konzert um 19.30 Uhr (bis 23.00Uhr), danach Party bis 4:00  Uhr.'<br>\n",
    "Sample output list (in Pacific time): ['10:30 a.m.', '2:00 p.m.', '7:00 p.m.']"
   ]
  },
  {
   "cell_type": "code",
   "execution_count": 22,
   "metadata": {
    "id": "f7znkNk-uwHt"
   },
   "outputs": [],
   "source": [
    "import re\n",
    "\n",
    "def extract_time_data(text: str) -> list:\n",
    "    times = re.findall(r'\\d{1,2}[\\.:]\\d{1,2}\\s*Uhr', text)\n",
    "    return times\n",
    "\n",
    "def time_in_US_format(time_expressions: list, timezone_shift: int = 0) -> list:\n",
    "    #initialize lists and AM/PM string\n",
    "    hours = []\n",
    "    minutes = []\n",
    "    pacific_time = []\n",
    "    am = 'a.m.'\n",
    "    pm = 'p.m.'\n",
    "\n",
    "    #take the list of times and put the hours and minutes into separate lists\n",
    "    i = 0\n",
    "    for time in time_expressions:\n",
    "        if ':' in time:\n",
    "            hours.append(int(time.split(':')[0]))\n",
    "            minutes.append(time.split(':')[1][:2])\n",
    "        elif '.' in time:\n",
    "            hours.append(int(time.split('.')[0]))\n",
    "            minutes.append(time.split('.')[1][:2])\n",
    "\n",
    "    #Add time shift\n",
    "    for i in range(len(hours)):\n",
    "        hours[i] = (hours[i] + timezone_shift) % 24\n",
    "\n",
    "    for i in range(len(hours)):\n",
    "        minute = minutes[i]\n",
    "        #PM condition\n",
    "        if hours[i] > 12:\n",
    "            hour = str(hours[i] - 12)\n",
    "            pacific_time.append(f'{hour}:{minute} {pm}')\n",
    "        elif hours[i] == 12:\n",
    "            hour = str(hours[i])\n",
    "            pacific_time.append(f'{hour}:{minute} {pm}')\n",
    "        #AM condition\n",
    "        elif hours[i] < 12 and hours[i] > 0:\n",
    "            hour = str(hours[i])\n",
    "            pacific_time.append(f'{hour}:{minute} {am}')\n",
    "        elif hours[i] == 0:\n",
    "            hour = '12'\n",
    "            pacific_time.append(f'{hour}:{minute} {am}') \n",
    "    \n",
    "    return pacific_time\n",
    "            "
   ]
  },
  {
   "cell_type": "code",
   "execution_count": 23,
   "metadata": {
    "id": "9DjWHY_QuxxG"
   },
   "outputs": [
    {
     "name": "stdout",
     "output_type": "stream",
     "text": [
      "['10:30 a.m.', '2:00 p.m.', '7:00 p.m.']\n"
     ]
    }
   ],
   "source": [
    "# Open test data\n",
    "text = 'Konzert um 19.30 Uhr (bis 23.00Uhr), danach Party bis 4:00  Uhr.'\n",
    "print(time_in_US_format(extract_time_data(text), -9))"
   ]
  }
 ],
 "metadata": {
  "colab": {
   "provenance": []
  },
  "kernelspec": {
   "display_name": "Python 3",
   "language": "python",
   "name": "python3"
  },
  "language_info": {
   "codemirror_mode": {
    "name": "ipython",
    "version": 3
   },
   "file_extension": ".py",
   "mimetype": "text/x-python",
   "name": "python",
   "nbconvert_exporter": "python",
   "pygments_lexer": "ipython3",
   "version": "3.13.2"
  }
 },
 "nbformat": 4,
 "nbformat_minor": 1
}
